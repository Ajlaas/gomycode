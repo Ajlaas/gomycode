{
 "cells": [
  {
   "cell_type": "code",
   "execution_count": null,
   "id": "1433e7a8",
   "metadata": {},
   "outputs": [],
   "source": []
  },
  {
   "cell_type": "code",
   "execution_count": 71,
   "id": "1acf5b54",
   "metadata": {},
   "outputs": [
    {
     "name": "stdout",
     "output_type": "stream",
     "text": [
      "combien de nombres vous allez entrer3\n",
      "entrez les nombres45\n",
      "entrez les nombres66\n",
      "entrez les nombres1\n",
      "1 est le nombre le plus grand\n"
     ]
    }
   ],
   "source": [
    "#ex1\n",
    "l=[]\n",
    "y=0\n",
    "i=1\n",
    "def nrb():\n",
    "    y=int(input(\"combien de nombres vous allez entrer\"))\n",
    "    for i in range(y):\n",
    "        x=int(input(\"entrez les nombres\"))\n",
    "        l.append(x)\n",
    "    while True:\n",
    "        if l[i]<l[i]+1:\n",
    "            print(l[i],\"est le nombre le plus grand\")\n",
    "            break\n",
    "nrb()"
   ]
  },
  {
   "cell_type": "code",
   "execution_count": 77,
   "id": "5aa843c0",
   "metadata": {
    "scrolled": true
   },
   "outputs": [
    {
     "name": "stdout",
     "output_type": "stream",
     "text": [
      "entrez un nombre4\n",
      "entrez un nombre2\n",
      "6 2\n"
     ]
    }
   ],
   "source": [
    "#ex 2\n",
    "def entr():\n",
    "    x=int(input(\"entrez un nombre\"))\n",
    "    y=int(input(\"entrez un nombre\"))\n",
    "    while True:\n",
    "        x>y\n",
    "        print(x+y,x-y)\n",
    "        break\n",
    "entr()"
   ]
  },
  {
   "cell_type": "code",
   "execution_count": 31,
   "id": "3b8322f9",
   "metadata": {},
   "outputs": [
    {
     "name": "stdout",
     "output_type": "stream",
     "text": [
      "combien de numero vous allez entrez: 5\n",
      "entrez la liste des numeros: 1\n",
      "entrez la liste des numeros: 2\n",
      "entrez la liste des numeros: 1\n",
      "entrez la liste des numeros: 2\n",
      "entrez la liste des numeros: 1\n",
      "la somme des nombres paire est : 3 et la mult des nombres impaire est: 4\n"
     ]
    }
   ],
   "source": [
    "#EX3\n",
    "k=[]\n",
    "h=[]\n",
    "l=[]\n",
    "a=0\n",
    "b=0\n",
    "def saisie():\n",
    "    x=int(input(\"combien de numero vous allez entrez: \"))\n",
    "    for i in range(x):\n",
    "        y=int(input(\"entrez la liste des numeros: \"))\n",
    "        l.append(y)\n",
    "        if i%2==0:\n",
    "            h.append(l[i])\n",
    "        elif i%2!=0:\n",
    "            k.append(l[i])\n",
    "\n",
    "    a=sum(h)\n",
    "    b=sum(k)\n",
    "        \n",
    "    print(\"la somme des nombres paire est :\",a,\"et la mult des nombres impaire est:\",b)\n",
    "saisie()"
   ]
  },
  {
   "cell_type": "markdown",
   "id": "de8ae597",
   "metadata": {},
   "source": []
  },
  {
   "cell_type": "code",
   "execution_count": 56,
   "id": "b273aba2",
   "metadata": {},
   "outputs": [
    {
     "name": "stdout",
     "output_type": "stream",
     "text": [
      "donnez les mots: youssef azza\n",
      "['azza', 'youssef']\n"
     ]
    }
   ],
   "source": [
    "#ex4\n",
    "def saisie():\n",
    "    x=str(input(\"donnez les mots: \"))\n",
    "    a=x.split(\" \")\n",
    "    a.sort()\n",
    "    print(a)\n",
    "    \n",
    "saisie()"
   ]
  },
  {
   "cell_type": "code",
   "execution_count": 54,
   "id": "4f278e34",
   "metadata": {},
   "outputs": [
    {
     "data": {
      "text/plain": [
       "['a', 'b', 'x']"
      ]
     },
     "execution_count": 54,
     "metadata": {},
     "output_type": "execute_result"
    }
   ],
   "source": [
    "def sasie():\n",
    "    "
   ]
  },
  {
   "cell_type": "code",
   "execution_count": null,
   "id": "74573bc6",
   "metadata": {},
   "outputs": [],
   "source": []
  }
 ],
 "metadata": {
  "kernelspec": {
   "display_name": "Python 3",
   "language": "python",
   "name": "python3"
  },
  "language_info": {
   "codemirror_mode": {
    "name": "ipython",
    "version": 3
   },
   "file_extension": ".py",
   "mimetype": "text/x-python",
   "name": "python",
   "nbconvert_exporter": "python",
   "pygments_lexer": "ipython3",
   "version": "3.8.8"
  }
 },
 "nbformat": 4,
 "nbformat_minor": 5
}
