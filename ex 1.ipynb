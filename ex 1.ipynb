{
 "cells": [
  {
   "cell_type": "code",
   "execution_count": 3,
   "id": "16c5f68c",
   "metadata": {},
   "outputs": [
    {
     "name": "stdout",
     "output_type": "stream",
     "text": [
      "ecrivez votre nom :ajlani\n",
      "ecrivez votre prenom :youssef\n",
      "inalja\n",
      "fessuoy\n"
     ]
    }
   ],
   "source": [
    "nom=str(input(\"ecrivez votre nom :\"))\n",
    "prenom=str(input(\"ecrivez votre prenom :\"))\n",
    "print(nom[::-1])\n",
    "print(prenom[::-1])"
   ]
  },
  {
   "cell_type": "code",
   "execution_count": null,
   "id": "dac6d8a2",
   "metadata": {},
   "outputs": [],
   "source": []
  }
 ],
 "metadata": {
  "kernelspec": {
   "display_name": "Python 3",
   "language": "python",
   "name": "python3"
  },
  "language_info": {
   "codemirror_mode": {
    "name": "ipython",
    "version": 3
   },
   "file_extension": ".py",
   "mimetype": "text/x-python",
   "name": "python",
   "nbconvert_exporter": "python",
   "pygments_lexer": "ipython3",
   "version": "3.8.8"
  }
 },
 "nbformat": 4,
 "nbformat_minor": 5
}
