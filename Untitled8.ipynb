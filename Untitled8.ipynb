{
 "cells": [
  {
   "cell_type": "code",
   "execution_count": 5,
   "id": "5378bfcc",
   "metadata": {},
   "outputs": [
    {
     "name": "stdout",
     "output_type": "stream",
     "text": [
      "my_point\n",
      "entrez x1\n",
      "entrez y2\n",
      "entrez z3\n",
      "x= 1 y= 2 and z= 3\n"
     ]
    }
   ],
   "source": [
    "#ex1\n",
    "class pint3D():\n",
    "    str(input(\"\"))\n",
    "    x=int(input(\"entrez x\"))\n",
    "    y=int(input(\"entrez y\"))\n",
    "    z=int(input(\"entrez z\"))\n",
    "    print(\"x=\",x, \"y=\",y, \"and z=\",z)"
   ]
  },
  {
   "cell_type": "code",
   "execution_count": 10,
   "id": "76282da7",
   "metadata": {},
   "outputs": [
    {
     "name": "stdout",
     "output_type": "stream",
     "text": [
      "insert width3\n",
      "insert lenth4\n",
      "area= 12 and perimeter= 14\n"
     ]
    }
   ],
   "source": [
    "#ex2\n",
    "class Rectangle():\n",
    "    width=int(input(\"insert width\"))\n",
    "    length=int(input(\"insert lenth\"))\n",
    "    area=width*length\n",
    "    perimeter=2*(width+length)\n",
    "    print(\"area=\",area,\"and perimeter=\",perimeter)"
   ]
  },
  {
   "cell_type": "code",
   "execution_count": 8,
   "id": "b396586a",
   "metadata": {},
   "outputs": [
    {
     "ename": "NameError",
     "evalue": "name 'isInside' is not defined",
     "output_type": "error",
     "traceback": [
      "\u001b[1;31m---------------------------------------------------------------------------\u001b[0m",
      "\u001b[1;31mNameError\u001b[0m                                 Traceback (most recent call last)",
      "\u001b[1;32m<ipython-input-8-f012e338a9b9>\u001b[0m in \u001b[0;36m<module>\u001b[1;34m\u001b[0m\n\u001b[0;32m      9\u001b[0m             \u001b[0mprint\u001b[0m\u001b[1;33m(\u001b[0m\u001b[1;34m\"le point est dans le cercle\"\u001b[0m\u001b[1;33m)\u001b[0m\u001b[1;33m\u001b[0m\u001b[1;33m\u001b[0m\u001b[0m\n\u001b[0;32m     10\u001b[0m         \u001b[1;32mreturn\u001b[0m\u001b[1;33m(\u001b[0m\u001b[0mA\u001b[0m\u001b[1;33m)\u001b[0m\u001b[1;33m\u001b[0m\u001b[1;33m\u001b[0m\u001b[0m\n\u001b[1;32m---> 11\u001b[1;33m \u001b[0misInside\u001b[0m\u001b[1;33m(\u001b[0m\u001b[1;33m)\u001b[0m\u001b[1;33m\u001b[0m\u001b[1;33m\u001b[0m\u001b[0m\n\u001b[0m",
      "\u001b[1;31mNameError\u001b[0m: name 'isInside' is not defined"
     ]
    }
   ],
   "source": [
    "#ex3\n",
    "class circle():\n",
    "    def isInside():\n",
    "        c=int(input(\"inserez centre: \"))\n",
    "        r=int(input(\"inserez rayon: \"))\n",
    "        A=int(input(\"entrez le point: \"))\n",
    "        if A-c>r:\n",
    "            print(\"le point n'est pas dans le cercle\")\n",
    "        elif A-c<r:\n",
    "            print(\"le point est dans le cercle\")\n",
    "        return(A)\n",
    "\n"
   ]
  },
  {
   "cell_type": "code",
   "execution_count": null,
   "id": "3a2a14ff",
   "metadata": {},
   "outputs": [],
   "source": []
  },
  {
   "cell_type": "code",
   "execution_count": null,
   "id": "51924b5e",
   "metadata": {},
   "outputs": [],
   "source": []
  },
  {
   "cell_type": "code",
   "execution_count": null,
   "id": "9a5bc0e5",
   "metadata": {},
   "outputs": [],
   "source": []
  },
  {
   "cell_type": "code",
   "execution_count": null,
   "id": "6f5b9089",
   "metadata": {},
   "outputs": [],
   "source": []
  }
 ],
 "metadata": {
  "kernelspec": {
   "display_name": "Python 3 (ipykernel)",
   "language": "python",
   "name": "python3"
  },
  "language_info": {
   "codemirror_mode": {
    "name": "ipython",
    "version": 3
   },
   "file_extension": ".py",
   "mimetype": "text/x-python",
   "name": "python",
   "nbconvert_exporter": "python",
   "pygments_lexer": "ipython3",
   "version": "3.9.7"
  }
 },
 "nbformat": 4,
 "nbformat_minor": 5
}
